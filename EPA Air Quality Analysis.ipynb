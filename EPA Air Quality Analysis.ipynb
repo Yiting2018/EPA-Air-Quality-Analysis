{
 "cells": [
  {
   "cell_type": "markdown",
   "metadata": {},
   "source": [
    "# Analyze air quality summary statistics by year at the US county level\n",
    "**Team members:**\n",
    "<br>[Javier Orraca](https://javorraca.github.io/Home/)\n",
    "<br>[Yiting Fu](https://github.com/Yiting2018)\n",
    "<br>[Mark Planas](https://github.com/markplanas)\n",
    "\n",
    "Research Questions:\n",
    "  * How US air quality changes through time at the county level;\n",
    "  * What factors could cause these changes (potentially researching external data sets for understanding \"why\" US air quality got better or worse, etc.)"
   ]
  },
  {
   "cell_type": "code",
   "execution_count": 168,
   "metadata": {},
   "outputs": [],
   "source": [
    "# Import all the useful packages, note that pyspark needs to be install locally first.\n",
    "import numpy as np\n",
    "import pandas as pd\n",
    "import sys\n",
    "import matplotlib.pyplot as plt\n",
    "import seaborn as sns\n",
    "from pyspark.ml.feature import VectorAssembler\n",
    "from pyspark.ml.regression import LinearRegression"
   ]
  },
  {
   "cell_type": "code",
   "execution_count": null,
   "metadata": {},
   "outputs": [],
   "source": [
    "from google.cloud import bigquery\n",
    "import google.cloud.bigquery as bq\n",
    "\n",
    "# Download the file into Google Colab tmp folder without affecting RAM limitation of Colab Python environment\n",
    "!gsutil cp gs://bana295_epa_analysis/co_daily_summary-000000000000.csv /tmp/co_0.csv\n",
    "!gsutil cp gs://bana295_epa_analysis/co_daily_summary-000000000001.csv /tmp/co_1.csv\n",
    "!gsutil cp gs://bana295_epa_analysis/co_daily_summary-000000000002.csv /tmp/co_2.csv\n",
    "!gsutil cp gs://bana295_epa_analysis/no2_daily_summary-000000000000.csv /tmp/no2_0.csv\n",
    "!gsutil cp gs://bana295_epa_analysis/no2_daily_summary-000000000001.csv /tmp/no2_1.csv\n",
    "!gsutil cp gs://bana295_epa_analysis/no2_daily_summary-000000000002.csv /tmp/no2_2.csv\n",
    "!gsutil cp gs://bana295_epa_analysis/o3_daily_summary-000000000000.csv /tmp/o3_0.csv\n",
    "!gsutil cp gs://bana295_epa_analysis/o3_daily_summary-000000000001.csv /tmp/o3_1.csv\n",
    "!gsutil cp gs://bana295_epa_analysis/o3_daily_summary-000000000002.csv /tmp/o3_2.csv\n",
    "!gsutil cp gs://bana295_epa_analysis/o3_daily_summary-000000000003.csv /tmp/o3_3.csv\n",
    "!gsutil cp gs://bana295_epa_analysis/o3_daily_summary-000000000004.csv /tmp/o3_4.csv\n",
    "!gsutil cp gs://bana295_epa_analysis/o3_daily_summary-000000000005.csv /tmp/o3_5.csv\n",
    "!gsutil cp gs://bana295_epa_analysis/temperature_daily_summary-000000000000.csv /tmp/temp_0.csv\n",
    "!gsutil cp gs://bana295_epa_analysis/temperature_daily_summary-000000000001.csv /tmp/temp_1.csv\n",
    "!gsutil cp gs://bana295_epa_analysis/temperature_daily_summary-000000000002.csv /tmp/temp_2.csv\n",
    "!gsutil cp gs://bana295_epa_analysis/temperature_daily_summary-000000000003.csv /tmp/temp_3.csv\n",
    "!gsutil cp gs://bana295_epa_analysis/temperature_daily_summary-000000000004.csv /tmp/temp_4.csv"
   ]
  },
  {
   "cell_type": "markdown",
   "metadata": {},
   "source": [
    "### After gathering data from Google Cloud Storage buckets, we input them using spark"
   ]
  },
  {
   "cell_type": "code",
   "execution_count": 169,
   "metadata": {},
   "outputs": [],
   "source": [
    "co_0 = spark.read.csv('co_daily_summary-000000000000.csv', inferSchema = True, header = True)\n",
    "co_1 = spark.read.csv('co_daily_summary-000000000001.csv', inferSchema = True, header = True)\n",
    "co_2 = spark.read.csv('co_daily_summary-000000000002.csv', inferSchema = True, header = True)\n",
    "no2_0 = spark.read.csv('no2_daily_summary-000000000000.csv', inferSchema = True, header = True)\n",
    "no2_1 = spark.read.csv('no2_daily_summary-000000000001.csv', inferSchema = True, header = True)\n",
    "no2_2 = spark.read.csv('no2_daily_summary-000000000002.csv', inferSchema = True, header = True)\n",
    "o3_0 = spark.read.csv('o3_daily_summary-000000000000.csv', inferSchema = True, header = True)\n",
    "o3_1 = spark.read.csv('o3_daily_summary-000000000001.csv', inferSchema = True, header = True)\n",
    "o3_2 = spark.read.csv('o3_daily_summary-000000000002.csv', inferSchema = True, header = True)\n",
    "o3_3 = spark.read.csv('o3_daily_summary-000000000003.csv', inferSchema = True, header = True)\n",
    "o3_4 = spark.read.csv('o3_daily_summary-000000000004.csv', inferSchema = True, header = True)\n",
    "o3_5 = spark.read.csv('o3_daily_summary-000000000005.csv', inferSchema = True, header = True)\n",
    "o3_6 = spark.read.csv('o3_daily_summary-000000000006.csv', inferSchema = True, header = True)\n",
    "temp_0 = spark.read.csv('temperature_daily_summary-000000000000.csv', inferSchema = True, header = True)\n",
    "temp_1 = spark.read.csv('temperature_daily_summary-000000000001.csv', inferSchema = True, header = True)\n",
    "temp_2 = spark.read.csv('temperature_daily_summary-000000000002.csv', inferSchema = True, header = True)\n",
    "temp_3 = spark.read.csv('temperature_daily_summary-000000000003.csv', inferSchema = True, header = True)\n",
    "temp_4 = spark.read.csv('temperature_daily_summary-000000000004.csv', inferSchema = True, header = True)"
   ]
  },
  {
   "cell_type": "code",
   "execution_count": 170,
   "metadata": {},
   "outputs": [],
   "source": [
    "from functools import reduce\n",
    "from pyspark.sql import DataFrame"
   ]
  },
  {
   "cell_type": "code",
   "execution_count": 171,
   "metadata": {},
   "outputs": [],
   "source": [
    "# Create a function to union all the sub-datasets.\n",
    "def unionAll(*dfs):\n",
    "    return reduce(DataFrame.unionAll, dfs)"
   ]
  },
  {
   "cell_type": "code",
   "execution_count": 172,
   "metadata": {},
   "outputs": [],
   "source": [
    "co = unionAll(co_0, co_1, co_2)\n",
    "no2 = unionAll(no2_0, no2_1, no2_2)\n",
    "o3 = unionAll(o3_0, o3_1, o3_2, o3_3, o3_4, o3_5, o3_6)\n",
    "temp = unionAll(temp_0, temp_1, temp_2, temp_3, temp_4)"
   ]
  },
  {
   "cell_type": "code",
   "execution_count": 173,
   "metadata": {
    "scrolled": true
   },
   "outputs": [
    {
     "name": "stdout",
     "output_type": "stream",
     "text": [
      "+----------+-----------+--------+--------------+---+---------+-----------+-----+---------------+--------------------+------------------+-------------------+-----------------+----------+-----------------+-------------------+-------------------+---------------+--------------+----+-----------+--------------------+--------------------+--------------------+-------------+------------+---------------+--------------------+-------------------+\n",
      "|state_code|county_code|site_num|parameter_code|poc| latitude|  longitude|datum| parameter_name|     sample_duration|pollutant_standard|         date_local| units_of_measure|event_type|observation_count|observation_percent|    arithmetic_mean|first_max_value|first_max_hour| aqi|method_code|         method_name|     local_site_name|             address|   state_name| county_name|      city_name|           cbsa_name|date_of_last_change|\n",
      "+----------+-----------+--------+--------------+---+---------+-----------+-----+---------------+--------------------+------------------+-------------------+-----------------+----------+-----------------+-------------------+-------------------+---------------+--------------+----+-----------+--------------------+--------------------+--------------------+-------------+------------+---------------+--------------------+-------------------+\n",
      "|        47|          9|     101|         42101|  1| 35.63348| -83.941606|WGS84|Carbon monoxide|8-HR RUN AVG END ...|    CO 8-hour 1971|2017-08-13 00:00:00|Parts per million|      None|               24|                100|0.19583299999999998|            0.2|             1|   2|       null|                   -|Great Smoky Mount...|GREAT SMOKY MOUNT...|    Tennessee|      Blount|  Not in a city|       Knoxville, TN|2018-03-22 00:00:00|\n",
      "|         2|         20|      48|         42101|  1|61.191514| -149.93493|WGS84|Carbon monoxide|              1 HOUR|    CO 1-hour 1971|2009-01-23 00:00:00|Parts per million|      None|               24|                100|                0.4|            0.4|             0|null|         54|INSTRUMENTAL - NO...|    UNITARIAN CHURCH|3201 TURNAGAIN ST...|       Alaska|   Anchorage|      Anchorage|       Anchorage, AK|2016-04-11 00:00:00|\n",
      "|        48|         29|      55|         42101|  1|29.407295| -98.431251|NAD83|Carbon monoxide|              1 HOUR|    CO 1-hour 1971|2009-08-06 00:00:00|Parts per million|      None|               24|                100|             0.1125|            0.2|             7|null|         67|INSTRUMENTAL - NO...|    CPS Pecan Valley|802 Pecan Valley ...|        Texas|       Bexar|    San Antonio|San Antonio-New B...|2016-04-11 00:00:00|\n",
      "|        35|         13|    1012|         42101|  1|32.281389|-106.767222|NAD27|Carbon monoxide|              1 HOUR|    CO 1-hour 1971|1992-05-25 00:00:00|Parts per million|      None|               24|                100|           0.529167|            1.3|            22|null|         12|INSTRUMENTAL - NO...|                null|         HOLIDAY INN|   New Mexico|    Dona Ana|     Las Cruces|      Las Cruces, NM|2016-04-22 00:00:00|\n",
      "|        40|        143|     191|         42101|  1|36.141697| -95.983793|WGS84|Carbon monoxide|              1 HOUR|    CO 1-hour 1971|2002-03-14 00:00:00|Parts per million|      None|               24|                100|             0.0625|            0.6|            17|null|         67|INSTRUMENTAL - NO...|          CINCINNATI|1413 S. CINCINNAT...|     Oklahoma|       Tulsa|          Tulsa|           Tulsa, OK|2016-04-19 00:00:00|\n",
      "|        40|         31|     647|         42101|  1|34.626418| -98.383173|WGS84|Carbon monoxide|8-HR RUN AVG END ...|    CO 8-hour 1971|2004-01-09 00:00:00|Parts per million|      None|               24|                100|           0.479167|            0.7|             0|   8|       null|                   -|USPHS LAWTON INDI...|1515 NE LAWRIE TA...|     Oklahoma|    Comanche|         Lawton|          Lawton, OK|2016-04-14 00:00:00|\n",
      "|        44|          7|    1010|         42101|  1|41.841573|  -71.36077|NAD83|Carbon monoxide|              1 HOUR|    CO 1-hour 1971|2003-05-07 00:00:00|Parts per million|      None|               24|                100|           0.516667|            0.6|             0|null|         11|INSTRUMENTAL - NO...|FRANCIS SCHOOL Ea...|FRANCIS SCHOOL, 6...| Rhode Island|  Providence|East Providence|Providence-Warwic...|2016-04-18 00:00:00|\n",
      "|        44|          7|    1009|         42101|  1|41.823611| -71.411667|NAD27|Carbon monoxide|8-HR RUN AVG END ...|    CO 8-hour 1971|2002-06-24 00:00:00|Parts per million|      None|               24|                100|           0.708333|            0.9|            12|  10|       null|                   -|                null| 76 DORRANCE STREET.| Rhode Island|  Providence|     Providence|Providence-Warwic...|2016-04-19 00:00:00|\n",
      "|        49|         49|    5005|         42101|  1|40.268889|-111.681944|NAD83|Carbon monoxide|              1 HOUR|    CO 1-hour 1971|1999-11-29 00:00:00|Parts per million|      None|               24|                100|           2.016667|            5.2|            17|null|         54|INSTRUMENTAL - NO...|UTM COORDINATES =...|1580 S STATE STRE...|         Utah|        Utah|           Orem|      Provo-Orem, UT|2016-04-21 00:00:00|\n",
      "|        42|         79|    2100|         42101|  1|41.250278| -75.880278|WGS84|Carbon monoxide|              1 HOUR|    CO 1-hour 1971|2004-07-25 00:00:00|Parts per million|      None|               24|                100|           0.195833|            0.3|             0|null|         93|INSTRUMENTAL - GA...|A420792100LAT/LON...|  NORTH RIVER STREET| Pennsylvania|     Luzerne|   Wilkes-Barre|Scranton--Wilkes-...|2016-04-14 00:00:00|\n",
      "|        56|         39|    1013|         42101|  1|44.373056|-110.830833|WGS84|Carbon monoxide|              1 HOUR|    CO 1-hour 1971|2017-04-08 00:00:00|Parts per million|      None|               23|                 96|           0.179609|          0.203|             3|null|        554|INSTRUMENTAL - Ga...|Yellowstone Natio...|Yellowstone Natio...|      Wyoming|       Teton|  Not in a city|      Jackson, WY-ID|2018-09-20 00:00:00|\n",
      "|        40|        109|      33|         42101|  1|35.477036| -97.494309|WGS84|Carbon monoxide|8-HR RUN AVG END ...|    CO 8-hour 1971|2008-05-22 00:00:00|Parts per million|      None|               24|                100|           0.595833|            0.6|             1|   7|       null|                   -|    OKC CENTRAL-OSDH| NE 10TH & STONEWALL|     Oklahoma|    Oklahoma|  Oklahoma City|   Oklahoma City, OK|2016-04-11 00:00:00|\n",
      "|        56|         21|     100|         42101|  1|41.182227|-104.778334|WGS84|Carbon monoxide|8-HR RUN AVG END ...|    CO 8-hour 1971|2015-09-17 00:00:00|Parts per million|      None|               24|                100|              0.025|            0.1|             0|   1|       null|                   -|      Cheyenne NCore|NCore - North Che...|      Wyoming|     Laramie|  Not in a city|        Cheyenne, WY|2016-04-07 00:00:00|\n",
      "|        30|         13|    1025|         42101|  1|47.496389|-111.294167|NAD27|Carbon monoxide|              1 HOUR|    CO 1-hour 1971|1990-09-17 00:00:00|Parts per million|      None|               24|                100|           2.183333|            4.3|             9|null|         11|INSTRUMENTAL - NO...|MID-BLOCK ON SOUT...|SKYWAY CONOCO, 70...|      Montana|     Cascade|    Great Falls|     Great Falls, MT|2016-04-28 00:00:00|\n",
      "|        41|         39|    2062|         42101|  1| 44.04564|-123.082217|NAD83|Carbon monoxide|8-HR RUN AVG END ...|    CO 8-hour 1971|2002-02-17 00:00:00|Parts per million|      None|               24|                100|           1.554167|            2.8|             1|  32|       null|                   -|                null|SACRED HEART HOSP...|       Oregon|        Lane|         Eugene|          Eugene, OR|2016-04-19 00:00:00|\n",
      "|        23|          5|    2003|         42101|  1|43.561043| -70.207324|NAD83|Carbon monoxide|              1 HOUR|    CO 1-hour 1971|2007-05-19 00:00:00|Parts per million|      None|               24|                100|           0.145833|            0.2|             8|null|         54|INSTRUMENTAL - NO...|CETL - Cape Eliza...|TWO LIGHTS STATE ...|        Maine|  Cumberland|  Not in a city|Portland-South Po...|2016-04-12 00:00:00|\n",
      "|        31|         55|      35|         42101|  1|41.306758| -95.960967|NAD83|Carbon monoxide|8-HR RUN AVG END ...|    CO 8-hour 1971|1994-01-12 00:00:00|Parts per million|      None|               24|                100|           0.695833|            1.2|             6|  14|       null|                   -|                null|METRO-TECH CAMPUS...|     Nebraska|     Douglas|          Omaha|Omaha-Council Blu...|2016-04-20 00:00:00|\n",
      "|        35|         13|    1012|         42101|  1|32.281389|-106.767222|NAD27|Carbon monoxide|8-HR RUN AVG END ...|    CO 8-hour 1971|1998-07-24 00:00:00|Parts per million|      None|               24|                100|               0.15|            0.4|             0|   5|       null|                   -|                null|         HOLIDAY INN|   New Mexico|    Dona Ana|     Las Cruces|      Las Cruces, NM|2016-04-15 00:00:00|\n",
      "|        44|          7|    1010|         42101|  1|41.841573|  -71.36077|NAD83|Carbon monoxide|              1 HOUR|    CO 1-hour 1971|1999-11-29 00:00:00|Parts per million|      None|               22|                 92|           0.390909|            0.6|            16|null|         11|INSTRUMENTAL - NO...|FRANCIS SCHOOL Ea...|FRANCIS SCHOOL, 6...| Rhode Island|  Providence|East Providence|Providence-Warwic...|2016-04-19 00:00:00|\n",
      "|        33|         11|    1009|         42101|  1|42.764444|   -71.4675|NAD27|Carbon monoxide|8-HR RUN AVG END ...|    CO 8-hour 1971|1994-05-10 00:00:00|Parts per million|      None|               24|                100|               0.85|            1.6|            23|  18|       null|                   -|                null|25 MAIN STREET, M...|New Hampshire|Hillsborough|         Nashua|Manchester-Nashua...|2016-04-20 00:00:00|\n",
      "+----------+-----------+--------+--------------+---+---------+-----------+-----+---------------+--------------------+------------------+-------------------+-----------------+----------+-----------------+-------------------+-------------------+---------------+--------------+----+-----------+--------------------+--------------------+--------------------+-------------+------------+---------------+--------------------+-------------------+\n",
      "only showing top 20 rows\n",
      "\n"
     ]
    }
   ],
   "source": [
    "co.show() # See the details of the dataset \"co\""
   ]
  },
  {
   "cell_type": "code",
   "execution_count": 174,
   "metadata": {},
   "outputs": [],
   "source": [
    "from pyspark.sql.functions import year, month, mean\n",
    "from pyspark.sql.functions import col\n",
    "from pyspark.sql.functions import date_format"
   ]
  },
  {
   "cell_type": "code",
   "execution_count": 175,
   "metadata": {},
   "outputs": [],
   "source": [
    "co = co.withColumn(\"date\", date_format('date_local', \"yyyy-MM\"))\n",
    "no2 = no2.withColumn(\"date\", date_format('date_local', \"yyyy-MM\"))\n",
    "o3 = o3.withColumn(\"date\", date_format('date_local', \"yyyy-MM\"))\n",
    "temp = temp.withColumn(\"date\", date_format('date_local', \"yyyy-MM\"))"
   ]
  },
  {
   "cell_type": "markdown",
   "metadata": {},
   "source": [
    "#### Get the average numbers of each months for each counties."
   ]
  },
  {
   "cell_type": "code",
   "execution_count": 176,
   "metadata": {
    "scrolled": true
   },
   "outputs": [],
   "source": [
    "co_1 = co.groupBy('state_name', 'county_name', 'date').avg('aqi', 'arithmetic_mean').select('state_name', 'county_name', col(\"avg(aqi)\").alias(\"Avg_AQI\"), col(\"avg(arithmetic_mean)\").alias(\"Avg_Value\"), 'date')"
   ]
  },
  {
   "cell_type": "code",
   "execution_count": 198,
   "metadata": {},
   "outputs": [
    {
     "name": "stdout",
     "output_type": "stream",
     "text": [
      "+-----------------+--------------------+-----------------+------------------+-------+\n",
      "|       state_name|         county_name|          Avg_AQI|         Avg_Value|   date|\n",
      "+-----------------+--------------------+-----------------+------------------+-------+\n",
      "|Country Of Mexico|BAJA CALIFORNIA N...| 98.1556886227545| 3.555596183183184|1999-11|\n",
      "|       California|            Imperial|89.29032258064517|3.1247022419354837|1995-12|\n",
      "|Country Of Mexico|BAJA CALIFORNIA N...|82.22489959839358|3.2678619016064268|2000-12|\n",
      "|Country Of Mexico|BAJA CALIFORNIA N...|80.85507246376811| 3.175846101449275|2002-02|\n",
      "|Country Of Mexico|BAJA CALIFORNIA N...| 80.1673640167364|3.1400600020920497|1998-01|\n",
      "|Country Of Mexico|     CHIHUAHUA STATE|77.33333333333333|2.7795186916666665|1998-11|\n",
      "|       California|            Imperial|             76.9| 2.721872316666667|1995-11|\n",
      "|Country Of Mexico|BAJA CALIFORNIA N...|76.76129032258065| 3.054804090322581|1999-12|\n",
      "|Country Of Mexico|BAJA CALIFORNIA N...| 76.0460251046025| 2.899022043933054|1998-11|\n",
      "|Country Of Mexico|BAJA CALIFORNIA N...|75.64556962025317| 2.874188529535865|1997-11|\n",
      "|           Oregon|           Josephine|71.74193548387096| 4.064534903225807|1991-01|\n",
      "|Country Of Mexico|BAJA CALIFORNIA N...|71.26728110599079|2.7685917304147467|1999-01|\n",
      "|Country Of Mexico|     CHIHUAHUA STATE|            71.05|2.4088707416666666|1997-11|\n",
      "|           Oregon|             Jackson|69.62295081967213|3.9828837049180317|1991-01|\n",
      "|       Washington|              Yakima|68.80645161290323|3.9224633548387096|1991-12|\n",
      "|Country Of Mexico|BAJA CALIFORNIA N...|67.54435483870968|2.6546290564516126|1998-12|\n",
      "|          Montana|            Missoula|66.12903225806451| 3.879083129032258|1992-01|\n",
      "|Country Of Mexico|BAJA CALIFORNIA N...|65.98373983739837|2.5543170365853665|1997-12|\n",
      "|           Nevada|               Clark|65.96774193548387|3.0967487258064517|1990-12|\n",
      "|       Washington|           Snohomish|65.33333333333333|3.7086163500000002|1990-09|\n",
      "+-----------------+--------------------+-----------------+------------------+-------+\n",
      "only showing top 20 rows\n",
      "\n"
     ]
    }
   ],
   "source": [
    "co_1.sort(col('Avg_AQI').desc()).show()"
   ]
  },
  {
   "cell_type": "code",
   "execution_count": 178,
   "metadata": {},
   "outputs": [],
   "source": [
    "no2_1 = no2.groupBy('state_name', 'county_name', 'date').avg('aqi', 'arithmetic_mean').select('state_name', 'county_name', col(\"avg(aqi)\").alias(\"Avg_AQI\"), col(\"avg(arithmetic_mean)\").alias(\"Avg_Value\"), 'date')"
   ]
  },
  {
   "cell_type": "code",
   "execution_count": 199,
   "metadata": {},
   "outputs": [
    {
     "name": "stdout",
     "output_type": "stream",
     "text": [
      "+------------+-----------+-----------------+------------------+-------+\n",
      "|  state_name|county_name|          Avg_AQI|         Avg_Value|   date|\n",
      "+------------+-----------+-----------------+------------------+-------+\n",
      "|        Utah|      Davis|            108.0|        89.1674242|1992-01|\n",
      "|    Colorado|     Denver|95.51612903225806| 70.33737096774195|1992-12|\n",
      "|    Colorado|   Arapahoe|             93.0|              56.0|1991-01|\n",
      "|    Colorado|     Denver|             91.0| 64.61837566666667|1995-02|\n",
      "|      Kansas|  Wyandotte|87.19354838709677| 29.48241835483871|1996-01|\n",
      "|      Kansas|  Wyandotte|84.64516129032258|26.137463161290324|1995-12|\n",
      "|  California|Los Angeles|83.82629107981221| 56.62685396948358|1995-11|\n",
      "|Pennsylvania|   Lawrence|82.93103448275862|50.652457827586204|1996-01|\n",
      "|      Kansas|  Wyandotte| 82.2258064516129|25.061094838709675|1995-10|\n",
      "|  California|Los Angeles|            81.85| 53.35674523809524|1991-02|\n",
      "|      Kansas|  Wyandotte|81.53333333333333|        24.1362812|1995-11|\n",
      "|      Kansas|  Wyandotte| 80.6774193548387| 24.72208216129032|1996-12|\n",
      "|      Nevada|      Clark|            80.65| 58.29522863333333|1990-06|\n",
      "|    Colorado|     Denver|79.38461538461539| 54.98069649999999|2003-05|\n",
      "|  California|Los Angeles| 79.3391304347826|51.734510469565215|1991-10|\n",
      "|  California|     Orange|79.24444444444444|        55.0118577|1991-11|\n",
      "|  California|     Orange|78.34444444444445|52.798356222222225|1990-11|\n",
      "|  California|     Tulare| 78.3225806451613|38.468030322580645|1995-10|\n",
      "|  California|     Orange|78.24444444444444| 55.84947097777778|1995-11|\n",
      "|  California|Los Angeles|78.04566210045662|52.142555958904104|1991-11|\n",
      "+------------+-----------+-----------------+------------------+-------+\n",
      "only showing top 20 rows\n",
      "\n"
     ]
    }
   ],
   "source": [
    "no2_1.sort(col('Avg_AQI').desc()).show()"
   ]
  },
  {
   "cell_type": "code",
   "execution_count": 180,
   "metadata": {},
   "outputs": [
    {
     "data": {
      "text/plain": [
       "DataFrame[summary: string, state_name: string, county_name: string, Avg_AQI: string, Avg_Value: string, date: string]"
      ]
     },
     "execution_count": 180,
     "metadata": {},
     "output_type": "execute_result"
    }
   ],
   "source": [
    "no2_1.describe()"
   ]
  },
  {
   "cell_type": "code",
   "execution_count": 181,
   "metadata": {},
   "outputs": [],
   "source": [
    "o3_1 = o3.groupBy('state_name', 'county_name', 'date').avg('aqi', 'arithmetic_mean').select('state_name', 'county_name', col(\"avg(aqi)\").alias(\"Avg_AQI\"), col(\"avg(arithmetic_mean)\").alias(\"Avg_Value\"), 'date')"
   ]
  },
  {
   "cell_type": "code",
   "execution_count": 201,
   "metadata": {},
   "outputs": [
    {
     "name": "stdout",
     "output_type": "stream",
     "text": [
      "+----------+--------------+------------------+--------------------+-------+\n",
      "|state_name|   county_name|           Avg_AQI|           Avg_Value|   date|\n",
      "+----------+--------------+------------------+--------------------+-------+\n",
      "|California|San Bernardino|168.08709677419355| 0.06535911935483871|1990-07|\n",
      "|California|San Bernardino| 167.4891304347826| 0.06951167663043477|1994-07|\n",
      "|   Georgia|        Fulton|166.48387096774192| 0.06242812903225806|1999-08|\n",
      "|California|San Bernardino|165.83136094674558| 0.06908530088495575|1991-07|\n",
      "|California|San Bernardino|163.89036544850498| 0.06767630564784052|1991-08|\n",
      "|California|San Bernardino|162.30100334448161| 0.06409439130434783|1993-08|\n",
      "|California|         Kings|161.51612903225808| 0.06733396774193548|1996-07|\n",
      "|California|         Kings| 161.2258064516129| 0.06518741935483871|1996-08|\n",
      "|California|San Bernardino|159.39506172839506| 0.06709643209876544|1994-06|\n",
      "|     Texas|         Ellis|             159.0| 0.07200000000000001|1997-08|\n",
      "|   Georgia|      Rockdale|157.06451612903226| 0.05791848387096773|1999-08|\n",
      "|California|        Tulare|155.90322580645162| 0.07544484516129032|2002-08|\n",
      "|California|San Bernardino|154.93548387096774| 0.06387574731182796|1994-08|\n",
      "|California|        Tulare|154.86363636363637| 0.07384809740259739|1994-07|\n",
      "|California|San Bernardino| 154.2396449704142| 0.06543358284023668|1993-07|\n",
      "|California|          Kern|153.93145161290323| 0.06380225806451613|1998-08|\n",
      "|California|        Tulare| 153.4228187919463| 0.07306226845637583|1994-08|\n",
      "|California|San Bernardino|153.07079646017698| 0.06368456598240468|1992-08|\n",
      "|California|          Kern|           152.375| 0.06656406854838709|1998-07|\n",
      "|California|        Amador|             150.0| 0.06376374193548387|1998-08|\n",
      "|California|        Fresno|148.63440860215053| 0.05850100537634408|1998-08|\n",
      "|California|San Bernardino|148.36969696969697| 0.06327588787878788|1990-06|\n",
      "|California|        Merced|148.32258064516128| 0.05862422580645161|1998-08|\n",
      "|California|     Riverside| 147.8624535315985| 0.06028660594795539|1991-07|\n",
      "|  Colorado|   Clear Creek|147.57142857142858| 0.07602714285714286|2007-07|\n",
      "|   Indiana|         Posey|147.04545454545453| 0.07442931818181818|1991-04|\n",
      "|California|        Tulare|146.98666666666668|          0.07101278|2002-07|\n",
      "|California|          Kern|146.86122448979592|0.061720963265306114|1996-08|\n",
      "|California|          Kern|146.72244897959183| 0.06231263265306124|1996-07|\n",
      "|California|        Merced|146.41935483870967| 0.05922764516129032|2002-08|\n",
      "|California|San Bernardino|146.28301886792454|0.062221099730458224|1996-07|\n",
      "|   Georgia|         Henry|145.41935483870967|0.052977290322580646|1999-08|\n",
      "|California|         Kings|144.36666666666667| 0.06446073333333333|1996-06|\n",
      "|California|San Bernardino|144.22884012539186| 0.05937470846394985|1990-08|\n",
      "|California|San Bernardino|144.07967032967034| 0.06395037260273974|1998-07|\n",
      "|California|San Bernardino|  143.991643454039| 0.06333093871866294|1996-06|\n",
      "|California|        Tulare|143.73376623376623| 0.06990001948051949|1993-07|\n",
      "|California|        Tulare|             143.7| 0.06756956666666666|1996-07|\n",
      "|California|        Merced| 143.3548387096774| 0.06025987096774194|2002-07|\n",
      "|California|        Tulare|141.95890410958904| 0.06857669863013699|2003-06|\n",
      "|California|        Tulare|141.50862068965517| 0.06466746551724138|1998-07|\n",
      "|California|     Calaveras|141.32258064516128| 0.06513945161290323|1998-08|\n",
      "|California|        Fresno| 140.8763440860215|0.056943505376344086|1998-07|\n",
      "|California|          Kern|140.79444444444445| 0.05686086666666667|1991-09|\n",
      "|California|     Riverside|140.04583333333332| 0.05749609166666667|1994-06|\n",
      "|California|        Tulare|139.92592592592592| 0.06462032592592593|2008-07|\n",
      "|New Jersey|        Mercer|             139.6| 0.05807408000000001|1999-07|\n",
      "|California|         Kings|139.51612903225808| 0.05739467741935483|1998-08|\n",
      "|California|San Bernardino|139.37386018237083|0.062271732522796344|1991-06|\n",
      "|California|          Kern|139.36032388663966|0.060391510121457485|2002-08|\n",
      "+----------+--------------+------------------+--------------------+-------+\n",
      "only showing top 50 rows\n",
      "\n"
     ]
    }
   ],
   "source": [
    "o3_1.sort(col('Avg_AQI').desc()).show(50)"
   ]
  },
  {
   "cell_type": "code",
   "execution_count": 183,
   "metadata": {},
   "outputs": [
    {
     "data": {
      "text/plain": [
       "[('state_code', 'int'),\n",
       " ('county_code', 'int'),\n",
       " ('site_num', 'int'),\n",
       " ('parameter_code', 'int'),\n",
       " ('poc', 'int'),\n",
       " ('latitude', 'double'),\n",
       " ('longitude', 'double'),\n",
       " ('datum', 'string'),\n",
       " ('parameter_name', 'string'),\n",
       " ('sample_duration', 'string'),\n",
       " ('pollutant_standard', 'string'),\n",
       " ('date_local', 'timestamp'),\n",
       " ('units_of_measure', 'string'),\n",
       " ('event_type', 'string'),\n",
       " ('observation_count', 'int'),\n",
       " ('observation_percent', 'int'),\n",
       " ('arithmetic_mean', 'double'),\n",
       " ('first_max_value', 'double'),\n",
       " ('first_max_hour', 'int'),\n",
       " ('aqi', 'string'),\n",
       " ('method_code', 'int'),\n",
       " ('method_name', 'string'),\n",
       " ('local_site_name', 'string'),\n",
       " ('address', 'string'),\n",
       " ('state_name', 'string'),\n",
       " ('county_name', 'string'),\n",
       " ('city_name', 'string'),\n",
       " ('cbsa_name', 'string'),\n",
       " ('date_of_last_change', 'timestamp'),\n",
       " ('date', 'string')]"
      ]
     },
     "execution_count": 183,
     "metadata": {},
     "output_type": "execute_result"
    }
   ],
   "source": [
    "temp.dtypes # We noticed the datatype for aqi in temp is string"
   ]
  },
  {
   "cell_type": "code",
   "execution_count": 184,
   "metadata": {},
   "outputs": [],
   "source": [
    "temp = temp.withColumn(\"aqi\", temp[\"aqi\"].cast(\"double\"))"
   ]
  },
  {
   "cell_type": "code",
   "execution_count": 185,
   "metadata": {},
   "outputs": [],
   "source": [
    "temp_1 = temp.groupBy('state_name', 'county_name', 'date').avg('aqi', 'arithmetic_mean').select('state_name', 'county_name', col(\"avg(aqi)\").alias(\"Avg_AQI\"), col(\"avg(arithmetic_mean)\").alias(\"Avg_Value\"), 'date')"
   ]
  },
  {
   "cell_type": "code",
   "execution_count": 202,
   "metadata": {},
   "outputs": [
    {
     "name": "stdout",
     "output_type": "stream",
     "text": [
      "+--------------+---------------+-------+------------------+-------+\n",
      "|    state_name|    county_name|Avg_AQI|         Avg_Value|   date|\n",
      "+--------------+---------------+-------+------------------+-------+\n",
      "|      Maryland|Prince George's|   null| 69.23082007407407|2004-05|\n",
      "|         Texas|           Bell|   null| 64.58736564516128|2009-10|\n",
      "|  North Dakota|       Williams|   null| 57.62150668888889|2016-09|\n",
      "|     Tennessee|         Shelby|   null| 79.65236116666667|2016-06|\n",
      "|         Texas|        Hidalgo|   null| 86.83086488709675|2016-08|\n",
      "|         Texas|      Robertson|   null| 53.44758058064515|2016-12|\n",
      "|  North Dakota|       Williams|   null| 27.26819924137931|2016-02|\n",
      "|   Connecticut|      New Haven|   null|46.990727763440866|2012-03|\n",
      "|      Oklahoma|       Sequoyah|   null| 68.06182809677419|2016-10|\n",
      "|  Pennsylvania|   Philadelphia|   null| 69.15833323333332|2009-09|\n",
      "|         Idaho|      Nez Perce|   null| 53.39913195833333|2012-04|\n",
      "|         Texas|        Kleberg|   null| 79.63873306451612|2016-10|\n",
      "|     Minnesota|     Washington|   null| 8.452712612903225|2012-03|\n",
      "|North Carolina|    Mecklenburg|   null| 60.22531764516129|2012-10|\n",
      "|      Oklahoma|          Tulsa|   null| 79.70658546774195|2013-08|\n",
      "|        Oregon|      Deschutes|   null|54.995833399999995|2010-06|\n",
      "|   Connecticut|      New Haven|   null| 76.43605992473117|2013-07|\n",
      "|       Georgia|       Richmond|   null| 77.80501209999998|2013-06|\n",
      "|       Florida|     Miami-Dade|   null| 80.05138893333333|2010-09|\n",
      "|      Oklahoma|         Ottawa|   null| 82.75268816129032|2010-08|\n",
      "+--------------+---------------+-------+------------------+-------+\n",
      "only showing top 20 rows\n",
      "\n"
     ]
    }
   ],
   "source": [
    "temp_1.sort(col('Avg_AQI').desc()).show()"
   ]
  },
  {
   "cell_type": "code",
   "execution_count": 187,
   "metadata": {},
   "outputs": [
    {
     "name": "stdout",
     "output_type": "stream",
     "text": [
      "+----+-------------------+------------------+\n",
      "|Year|                 CO|               AQI|\n",
      "+----+-------------------+------------------+\n",
      "|1990| 1.1257721687540605| 20.38121590164033|\n",
      "|1991| 1.0903920747257416|19.506955607034797|\n",
      "|1992| 1.0394011228738278|18.588074662591165|\n",
      "|1993| 0.9824400527254451|17.656195163942566|\n",
      "|1994| 0.9796976413680244| 17.48246121658617|\n",
      "|1995| 0.9192320024887064| 16.24126289193104|\n",
      "|1996| 0.8680204554714104| 15.36029527762516|\n",
      "|1997| 0.8221655785795299|14.726901853122856|\n",
      "|1998| 0.8201308902930613|14.521619679380873|\n",
      "|1999| 0.7912135131090428|14.103188925565087|\n",
      "|2000| 0.7057158014704847|12.536615192105337|\n",
      "|2001| 0.6680985612693261|11.821621459971889|\n",
      "|2002| 0.6227662921090243|10.889929438782124|\n",
      "|2003| 0.6001401910201596|10.353958326582196|\n",
      "|2004| 0.5464600578648561| 9.351399630822973|\n",
      "|2005| 0.5118752707715917| 8.665479086019664|\n",
      "|2006|0.48120536668885155| 8.130937671358069|\n",
      "|2007| 0.4308632387277576| 7.139530777380276|\n",
      "|2008| 0.3939572504598595|6.4685119249686185|\n",
      "|2009| 0.3672220263040382| 6.052110623457362|\n",
      "|2010|0.35346643157494895| 5.697469863558087|\n",
      "|2011| 0.3412313676153047| 5.488884374530777|\n",
      "|2012| 0.3286600671707505|5.2312447771118435|\n",
      "|2013| 0.3010877315234273| 4.800488591841438|\n",
      "|2014| 0.2955579177036493| 4.643063103027615|\n",
      "|2015| 0.3065591348350823| 4.770898382724129|\n",
      "|2016| 0.3027286879677461| 4.650576437294638|\n",
      "|2017|0.29326979457108576| 4.482625180784114|\n",
      "+----+-------------------+------------------+\n",
      "\n"
     ]
    }
   ],
   "source": [
    "co.groupBy(year('date_local')).avg('aqi', 'arithmetic_mean').select(col(\"year(date_local)\").alias(\"Year\"), col(\"avg(arithmetic_mean)\").alias(\"CO\"), col(\"avg(aqi)\").alias(\"AQI\")).sort('Year').show(28)"
   ]
  },
  {
   "cell_type": "code",
   "execution_count": 188,
   "metadata": {},
   "outputs": [
    {
     "name": "stdout",
     "output_type": "stream",
     "text": [
      "+----+------------------+------------------+\n",
      "|Year|               No2|               AQI|\n",
      "+----+------------------+------------------+\n",
      "|1990| 18.52854638343699| 32.52072401285294|\n",
      "|1991|18.165256745162626|31.846556626673138|\n",
      "|1992|17.468983301706015|30.498500070633792|\n",
      "|1993| 17.24469456443412|30.218031146162776|\n",
      "|1994| 17.72709782603055|30.934833743601764|\n",
      "|1995|16.988859075288566|29.945123863280024|\n",
      "|1996| 16.39557998331853|29.102841667847898|\n",
      "|1997|15.733826309318225| 28.24878306725002|\n",
      "|1998|15.925665648994197|  28.4278327082623|\n",
      "|1999| 16.39755906789483| 29.50165519675313|\n",
      "|2000|15.332295421908501| 27.49152776149459|\n",
      "|2001|14.932344301206294|26.929423323599245|\n",
      "|2002|14.264765278534401|25.932616477716568|\n",
      "|2003| 13.68065607855724|25.004868025484733|\n",
      "|2004| 12.72996048592729|23.438541666666666|\n",
      "|2005|12.781965128653962|23.752543985439303|\n",
      "|2006|11.906634627097018| 22.77588371141456|\n",
      "|2007|11.489549252984554|21.901891286673987|\n",
      "|2008|10.883111762023308|21.095122657211085|\n",
      "|2009| 9.878608891060225| 19.09302187130238|\n",
      "|2010| 9.329705532478256|18.271479462764507|\n",
      "|2011| 9.061027160897602| 17.73788268215899|\n",
      "|2012| 8.536174106635066|16.994299382992043|\n",
      "|2013| 8.357975246839136| 16.44433638073008|\n",
      "|2014| 8.503428897498434|16.682199029839776|\n",
      "|2015| 8.517749021737867|16.505903039437328|\n",
      "|2016| 8.350955152749068|16.163282389498384|\n",
      "|2017| 8.245090761151872| 15.95632978895317|\n",
      "+----+------------------+------------------+\n",
      "\n"
     ]
    }
   ],
   "source": [
    "no2.groupBy(year('date_local')).avg('aqi', 'arithmetic_mean').select(col(\"year(date_local)\").alias(\"Year\"), col(\"avg(arithmetic_mean)\").alias(\"No2\"), col(\"avg(aqi)\").alias(\"AQI\")).sort('Year').show(28)"
   ]
  },
  {
   "cell_type": "code",
   "execution_count": 189,
   "metadata": {},
   "outputs": [
    {
     "name": "stdout",
     "output_type": "stream",
     "text": [
      "+----+--------------------+------------------+\n",
      "|Year|                  O3|               AQI|\n",
      "+----+--------------------+------------------+\n",
      "|1990| 0.02917773120616503| 45.05635765627139|\n",
      "|1991| 0.02989380171799576|46.370947663364355|\n",
      "|1992|0.028390782745594402|42.611522545361105|\n",
      "|1993|0.029188639536002058| 44.17079964194033|\n",
      "|1994|0.030151296359536835|45.871962610002775|\n",
      "|1995| 0.03088213020502843| 47.64446683110104|\n",
      "|1996|  0.0307704619573374| 46.15407922992543|\n",
      "|1997| 0.03107154760433678| 46.13850354318614|\n",
      "|1998| 0.03271064695459362|50.668427416788646|\n",
      "|1999| 0.03308111044242739|  50.9121987186513|\n",
      "|2000|0.031090646807187053|46.085598109292874|\n",
      "|2001| 0.03176177463570149| 47.21249484446567|\n",
      "|2002|0.032321832760752296| 48.67900222046043|\n",
      "|2003| 0.03156020554612209|45.773150694760005|\n",
      "|2004|0.030649765259600153| 42.48108872708864|\n",
      "|2005|0.032092882382268206| 46.26232580490149|\n",
      "|2006| 0.03256116669385342|45.734867650329946|\n",
      "|2007| 0.03296977575061558| 46.21611753480832|\n",
      "|2008|0.032449502471510815|43.965197562707935|\n",
      "|2009|0.030755008363585794| 39.73177679289749|\n",
      "|2010| 0.03280453254679282| 43.03701514243212|\n",
      "|2011|0.033011691146683626|  43.0440923300256|\n",
      "|2012| 0.03335385278439381| 44.23848041490097|\n",
      "|2013| 0.03187793375329702|39.966899695270286|\n",
      "|2014| 0.03168516966426096| 39.57180253054213|\n",
      "|2015|0.031503997820097766| 39.59600685038784|\n",
      "|2016|0.031977174904166794| 40.08208012944103|\n",
      "|2017| 0.03228916514433407| 40.13295810874892|\n",
      "+----+--------------------+------------------+\n",
      "\n"
     ]
    }
   ],
   "source": [
    "o3.groupBy(year('date_local')).avg('aqi', 'arithmetic_mean').select(col(\"year(date_local)\").alias(\"Year\"), col(\"avg(arithmetic_mean)\").alias(\"O3\"), col(\"avg(aqi)\").alias(\"AQI\")).sort('Year').show(28)"
   ]
  },
  {
   "cell_type": "code",
   "execution_count": 190,
   "metadata": {},
   "outputs": [
    {
     "name": "stdout",
     "output_type": "stream",
     "text": [
      "+----+------------------+----+\n",
      "|Year|              Temp| AQI|\n",
      "+----+------------------+----+\n",
      "|1990|53.744737512403354|null|\n",
      "|1991|54.387546912695974|null|\n",
      "|1992|53.397466403140676|null|\n",
      "|1993| 53.34523828503471|null|\n",
      "|1994|54.547137106299466|null|\n",
      "|1995| 55.64843882630052|null|\n",
      "|1996| 54.87537081299792|null|\n",
      "|1997| 55.65061910091302|null|\n",
      "|1998|57.381626671952866|null|\n",
      "|1999| 57.27393747238396|null|\n",
      "|2000|56.730839424663934|null|\n",
      "|2001|57.211862974796304|null|\n",
      "|2002|57.088377579037264|null|\n",
      "|2003| 57.05777696447241|null|\n",
      "|2004| 56.86720974468335|null|\n",
      "|2005| 57.60807172813541|null|\n",
      "|2006| 57.96782123855886|null|\n",
      "|2007| 57.18167062015973|null|\n",
      "|2008| 55.83212670772041|null|\n",
      "|2009| 55.56795376874028|null|\n",
      "|2010|55.945239018177126|null|\n",
      "|2011|  55.7138652164867|null|\n",
      "|2012| 57.49611659432808|null|\n",
      "|2013|  55.0340702014359|null|\n",
      "|2014| 55.38748289461968|null|\n",
      "|2015| 56.48320160613883|null|\n",
      "|2016| 57.48171305492431|null|\n",
      "|2017| 57.14234382450479|null|\n",
      "+----+------------------+----+\n",
      "\n"
     ]
    }
   ],
   "source": [
    "temp.groupBy(year('date_local')).avg('aqi', 'arithmetic_mean').select(col(\"year(date_local)\").alias(\"Year\"), col(\"avg(arithmetic_mean)\").alias(\"Temp\"), col(\"avg(aqi)\").alias(\"AQI\")).sort('Year').show(28)"
   ]
  },
  {
   "cell_type": "markdown",
   "metadata": {},
   "source": [
    "## Export all the dataframe to csv files so we can work on these in Tableau with the state code and county code\n"
   ]
  },
  {
   "cell_type": "code",
   "execution_count": 133,
   "metadata": {},
   "outputs": [],
   "source": [
    "co_tab = co.groupBy('state_name', 'county_name', 'state_code', 'county_code', 'date').avg('aqi', 'arithmetic_mean').select('state_name', 'county_name', 'state_code', 'county_code', col(\"avg(aqi)\").alias(\"Avg_AQI\"), col(\"avg(arithmetic_mean)\").alias(\"Avg_Value\"), 'date')"
   ]
  },
  {
   "cell_type": "code",
   "execution_count": 16,
   "metadata": {},
   "outputs": [],
   "source": [
    "co_tab.toPandas().to_csv('co_tab.csv')"
   ]
  },
  {
   "cell_type": "code",
   "execution_count": 17,
   "metadata": {},
   "outputs": [],
   "source": [
    "no2_tab = no2.groupBy('state_name', 'county_name', 'state_code', 'county_code', 'date').avg('aqi', 'arithmetic_mean').select('state_name', 'county_name', 'state_code', 'county_code', col(\"avg(aqi)\").alias(\"Avg_AQI\"), col(\"avg(arithmetic_mean)\").alias(\"Avg_Value\"), 'date')"
   ]
  },
  {
   "cell_type": "code",
   "execution_count": 18,
   "metadata": {},
   "outputs": [],
   "source": [
    "no2_tab.toPandas().to_csv('no2_tab.csv')"
   ]
  },
  {
   "cell_type": "code",
   "execution_count": 19,
   "metadata": {},
   "outputs": [],
   "source": [
    "o3_tab = o3.groupBy('state_name', 'county_name', 'state_code', 'county_code', 'date').avg('aqi', 'arithmetic_mean').select('state_name', 'county_name', 'state_code', 'county_code', col(\"avg(aqi)\").alias(\"Avg_AQI\"), col(\"avg(arithmetic_mean)\").alias(\"Avg_Value\"), 'date')"
   ]
  },
  {
   "cell_type": "code",
   "execution_count": 20,
   "metadata": {},
   "outputs": [],
   "source": [
    "o3_tab.toPandas().to_csv('o3_tab.csv')"
   ]
  },
  {
   "cell_type": "code",
   "execution_count": 21,
   "metadata": {
    "scrolled": true
   },
   "outputs": [],
   "source": [
    "temp_tab = temp.groupBy('state_name', 'county_name', 'state_code', 'county_code', 'date').avg('aqi', 'arithmetic_mean').select('state_name', 'county_name', 'state_code', 'county_code', col(\"avg(aqi)\").alias(\"Avg_AQI\"), col(\"avg(arithmetic_mean)\").alias(\"Avg_Value\"), 'date')"
   ]
  },
  {
   "cell_type": "code",
   "execution_count": 22,
   "metadata": {},
   "outputs": [],
   "source": [
    "temp_tab.toPandas().to_csv('temp_tab.csv')"
   ]
  }
 ],
 "metadata": {
  "kernelspec": {
   "display_name": "Python 3",
   "language": "python",
   "name": "python3"
  },
  "language_info": {
   "codemirror_mode": {
    "name": "ipython",
    "version": 3
   },
   "file_extension": ".py",
   "mimetype": "text/x-python",
   "name": "python",
   "nbconvert_exporter": "python",
   "pygments_lexer": "ipython3",
   "version": "3.7.3"
  }
 },
 "nbformat": 4,
 "nbformat_minor": 2
}
